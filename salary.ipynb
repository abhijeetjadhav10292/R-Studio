{
 "cells": [
  {
   "cell_type": "code",
   "execution_count": 1,
   "metadata": {},
   "outputs": [],
   "source": [
    "data = read.csv(\"E:/ITVEDANT R/Project_data.csv\")"
   ]
  },
  {
   "cell_type": "code",
   "execution_count": 2,
   "metadata": {},
   "outputs": [],
   "source": [
    "#install.packages(\"dplyr\")"
   ]
  },
  {
   "cell_type": "code",
   "execution_count": 3,
   "metadata": {},
   "outputs": [
    {
     "name": "stderr",
     "output_type": "stream",
     "text": [
      "\n",
      "Attaching package: 'dplyr'\n",
      "\n",
      "The following objects are masked from 'package:stats':\n",
      "\n",
      "    filter, lag\n",
      "\n",
      "The following objects are masked from 'package:base':\n",
      "\n",
      "    intersect, setdiff, setequal, union\n",
      "\n"
     ]
    }
   ],
   "source": [
    "library(dplyr)"
   ]
  },
  {
   "cell_type": "code",
   "execution_count": 4,
   "metadata": {},
   "outputs": [
    {
     "data": {
      "text/html": [
       "<ol class=list-inline>\n",
       "\t<li>'age'</li>\n",
       "\t<li>'capital.gain'</li>\n",
       "\t<li>'capital.loss'</li>\n",
       "\t<li>'education'</li>\n",
       "\t<li>'education.num'</li>\n",
       "\t<li>'fnlwgt'</li>\n",
       "\t<li>'hours.per.week'</li>\n",
       "\t<li>'Income'</li>\n",
       "\t<li>'marital.status'</li>\n",
       "\t<li>'native.country'</li>\n",
       "\t<li>'occupation'</li>\n",
       "\t<li>'race'</li>\n",
       "\t<li>'relationship'</li>\n",
       "\t<li>'sex'</li>\n",
       "\t<li>'Workclass'</li>\n",
       "\t<li>'X'</li>\n",
       "</ol>\n"
      ],
      "text/latex": [
       "\\begin{enumerate*}\n",
       "\\item 'age'\n",
       "\\item 'capital.gain'\n",
       "\\item 'capital.loss'\n",
       "\\item 'education'\n",
       "\\item 'education.num'\n",
       "\\item 'fnlwgt'\n",
       "\\item 'hours.per.week'\n",
       "\\item 'Income'\n",
       "\\item 'marital.status'\n",
       "\\item 'native.country'\n",
       "\\item 'occupation'\n",
       "\\item 'race'\n",
       "\\item 'relationship'\n",
       "\\item 'sex'\n",
       "\\item 'Workclass'\n",
       "\\item 'X'\n",
       "\\end{enumerate*}\n"
      ],
      "text/markdown": [
       "1. 'age'\n",
       "2. 'capital.gain'\n",
       "3. 'capital.loss'\n",
       "4. 'education'\n",
       "5. 'education.num'\n",
       "6. 'fnlwgt'\n",
       "7. 'hours.per.week'\n",
       "8. 'Income'\n",
       "9. 'marital.status'\n",
       "10. 'native.country'\n",
       "11. 'occupation'\n",
       "12. 'race'\n",
       "13. 'relationship'\n",
       "14. 'sex'\n",
       "15. 'Workclass'\n",
       "16. 'X'\n",
       "\n",
       "\n"
      ],
      "text/plain": [
       " [1] \"age\"            \"capital.gain\"   \"capital.loss\"   \"education\"     \n",
       " [5] \"education.num\"  \"fnlwgt\"         \"hours.per.week\" \"Income\"        \n",
       " [9] \"marital.status\" \"native.country\" \"occupation\"     \"race\"          \n",
       "[13] \"relationship\"   \"sex\"            \"Workclass\"      \"X\"             "
      ]
     },
     "metadata": {},
     "output_type": "display_data"
    }
   ],
   "source": [
    "ls(data)"
   ]
  },
  {
   "cell_type": "code",
   "execution_count": 5,
   "metadata": {},
   "outputs": [
    {
     "data": {
      "text/html": [
       "<table>\n",
       "<thead><tr><th scope=col>X</th><th scope=col>age</th><th scope=col>Workclass</th><th scope=col>fnlwgt</th><th scope=col>education</th><th scope=col>education.num</th><th scope=col>marital.status</th><th scope=col>occupation</th><th scope=col>relationship</th><th scope=col>race</th><th scope=col>sex</th><th scope=col>capital.gain</th><th scope=col>capital.loss</th><th scope=col>hours.per.week</th><th scope=col>native.country</th><th scope=col>Income</th></tr></thead>\n",
       "<tbody>\n",
       "\t<tr><td>0                  </td><td>39                 </td><td> State-gov         </td><td> 77516             </td><td> Bachelors         </td><td>13                 </td><td> Never-married     </td><td> Adm-clerical      </td><td> Not-in-family     </td><td> White             </td><td> Male              </td><td>2174               </td><td>0                  </td><td>40                 </td><td> United-States     </td><td>0                  </td></tr>\n",
       "\t<tr><td>1                  </td><td>50                 </td><td> Self-emp-not-inc  </td><td> 83311             </td><td> Bachelors         </td><td>13                 </td><td> Married-civ-spouse</td><td> Exec-managerial   </td><td> Husband           </td><td> White             </td><td> Male              </td><td>   0               </td><td>0                  </td><td>13                 </td><td> United-States     </td><td>0                  </td></tr>\n",
       "\t<tr><td>2                  </td><td>38                 </td><td> Private           </td><td>215646             </td><td> HS-grad           </td><td> 9                 </td><td> Divorced          </td><td> Handlers-cleaners </td><td> Not-in-family     </td><td> White             </td><td> Male              </td><td>   0               </td><td>0                  </td><td>40                 </td><td> United-States     </td><td>0                  </td></tr>\n",
       "\t<tr><td>3                  </td><td>53                 </td><td> Private           </td><td>234721             </td><td> 11th              </td><td> 7                 </td><td> Married-civ-spouse</td><td> Handlers-cleaners </td><td> Husband           </td><td> Black             </td><td> Male              </td><td>   0               </td><td>0                  </td><td>40                 </td><td> United-States     </td><td>0                  </td></tr>\n",
       "\t<tr><td>4                  </td><td>28                 </td><td> Private           </td><td>338409             </td><td> Bachelors         </td><td>13                 </td><td> Married-civ-spouse</td><td> Prof-specialty    </td><td> Wife              </td><td> Black             </td><td> Female            </td><td>   0               </td><td>0                  </td><td>40                 </td><td> Cuba              </td><td>0                  </td></tr>\n",
       "\t<tr><td>5                  </td><td>37                 </td><td> Private           </td><td>284582             </td><td> Masters           </td><td>14                 </td><td> Married-civ-spouse</td><td> Exec-managerial   </td><td> Wife              </td><td> White             </td><td> Female            </td><td>   0               </td><td>0                  </td><td>40                 </td><td> United-States     </td><td>0                  </td></tr>\n",
       "</tbody>\n",
       "</table>\n"
      ],
      "text/latex": [
       "\\begin{tabular}{r|llllllllllllllll}\n",
       " X & age & Workclass & fnlwgt & education & education.num & marital.status & occupation & relationship & race & sex & capital.gain & capital.loss & hours.per.week & native.country & Income\\\\\n",
       "\\hline\n",
       "\t 0                   & 39                  &  State-gov          &  77516              &  Bachelors          & 13                  &  Never-married      &  Adm-clerical       &  Not-in-family      &  White              &  Male               & 2174                & 0                   & 40                  &  United-States      & 0                  \\\\\n",
       "\t 1                   & 50                  &  Self-emp-not-inc   &  83311              &  Bachelors          & 13                  &  Married-civ-spouse &  Exec-managerial    &  Husband            &  White              &  Male               &    0                & 0                   & 13                  &  United-States      & 0                  \\\\\n",
       "\t 2                   & 38                  &  Private            & 215646              &  HS-grad            &  9                  &  Divorced           &  Handlers-cleaners  &  Not-in-family      &  White              &  Male               &    0                & 0                   & 40                  &  United-States      & 0                  \\\\\n",
       "\t 3                   & 53                  &  Private            & 234721              &  11th               &  7                  &  Married-civ-spouse &  Handlers-cleaners  &  Husband            &  Black              &  Male               &    0                & 0                   & 40                  &  United-States      & 0                  \\\\\n",
       "\t 4                   & 28                  &  Private            & 338409              &  Bachelors          & 13                  &  Married-civ-spouse &  Prof-specialty     &  Wife               &  Black              &  Female             &    0                & 0                   & 40                  &  Cuba               & 0                  \\\\\n",
       "\t 5                   & 37                  &  Private            & 284582              &  Masters            & 14                  &  Married-civ-spouse &  Exec-managerial    &  Wife               &  White              &  Female             &    0                & 0                   & 40                  &  United-States      & 0                  \\\\\n",
       "\\end{tabular}\n"
      ],
      "text/markdown": [
       "\n",
       "| X | age | Workclass | fnlwgt | education | education.num | marital.status | occupation | relationship | race | sex | capital.gain | capital.loss | hours.per.week | native.country | Income |\n",
       "|---|---|---|---|---|---|---|---|---|---|---|---|---|---|---|---|\n",
       "| 0                   | 39                  |  State-gov          |  77516              |  Bachelors          | 13                  |  Never-married      |  Adm-clerical       |  Not-in-family      |  White              |  Male               | 2174                | 0                   | 40                  |  United-States      | 0                   |\n",
       "| 1                   | 50                  |  Self-emp-not-inc   |  83311              |  Bachelors          | 13                  |  Married-civ-spouse |  Exec-managerial    |  Husband            |  White              |  Male               |    0                | 0                   | 13                  |  United-States      | 0                   |\n",
       "| 2                   | 38                  |  Private            | 215646              |  HS-grad            |  9                  |  Divorced           |  Handlers-cleaners  |  Not-in-family      |  White              |  Male               |    0                | 0                   | 40                  |  United-States      | 0                   |\n",
       "| 3                   | 53                  |  Private            | 234721              |  11th               |  7                  |  Married-civ-spouse |  Handlers-cleaners  |  Husband            |  Black              |  Male               |    0                | 0                   | 40                  |  United-States      | 0                   |\n",
       "| 4                   | 28                  |  Private            | 338409              |  Bachelors          | 13                  |  Married-civ-spouse |  Prof-specialty     |  Wife               |  Black              |  Female             |    0                | 0                   | 40                  |  Cuba               | 0                   |\n",
       "| 5                   | 37                  |  Private            | 284582              |  Masters            | 14                  |  Married-civ-spouse |  Exec-managerial    |  Wife               |  White              |  Female             |    0                | 0                   | 40                  |  United-States      | 0                   |\n",
       "\n"
      ],
      "text/plain": [
       "  X age Workclass         fnlwgt education  education.num marital.status     \n",
       "1 0 39   State-gov         77516  Bachelors 13             Never-married     \n",
       "2 1 50   Self-emp-not-inc  83311  Bachelors 13             Married-civ-spouse\n",
       "3 2 38   Private          215646  HS-grad    9             Divorced          \n",
       "4 3 53   Private          234721  11th       7             Married-civ-spouse\n",
       "5 4 28   Private          338409  Bachelors 13             Married-civ-spouse\n",
       "6 5 37   Private          284582  Masters   14             Married-civ-spouse\n",
       "  occupation         relationship   race   sex     capital.gain capital.loss\n",
       "1  Adm-clerical       Not-in-family  White  Male   2174         0           \n",
       "2  Exec-managerial    Husband        White  Male      0         0           \n",
       "3  Handlers-cleaners  Not-in-family  White  Male      0         0           \n",
       "4  Handlers-cleaners  Husband        Black  Male      0         0           \n",
       "5  Prof-specialty     Wife           Black  Female    0         0           \n",
       "6  Exec-managerial    Wife           White  Female    0         0           \n",
       "  hours.per.week native.country Income\n",
       "1 40              United-States 0     \n",
       "2 13              United-States 0     \n",
       "3 40              United-States 0     \n",
       "4 40              United-States 0     \n",
       "5 40              Cuba          0     \n",
       "6 40              United-States 0     "
      ]
     },
     "metadata": {},
     "output_type": "display_data"
    }
   ],
   "source": [
    "head(data)"
   ]
  },
  {
   "cell_type": "code",
   "execution_count": 6,
   "metadata": {},
   "outputs": [],
   "source": [
    "df<- select(data,-c(X))"
   ]
  },
  {
   "cell_type": "code",
   "execution_count": 7,
   "metadata": {},
   "outputs": [
    {
     "data": {
      "text/html": [
       "<table>\n",
       "<thead><tr><th scope=col>age</th><th scope=col>Workclass</th><th scope=col>fnlwgt</th><th scope=col>education</th><th scope=col>education.num</th><th scope=col>marital.status</th><th scope=col>occupation</th><th scope=col>relationship</th><th scope=col>race</th><th scope=col>sex</th><th scope=col>capital.gain</th><th scope=col>capital.loss</th><th scope=col>hours.per.week</th><th scope=col>native.country</th><th scope=col>Income</th></tr></thead>\n",
       "<tbody>\n",
       "\t<tr><td>39                 </td><td> State-gov         </td><td> 77516             </td><td> Bachelors         </td><td>13                 </td><td> Never-married     </td><td> Adm-clerical      </td><td> Not-in-family     </td><td> White             </td><td> Male              </td><td>2174               </td><td>0                  </td><td>40                 </td><td> United-States     </td><td>0                  </td></tr>\n",
       "\t<tr><td>50                 </td><td> Self-emp-not-inc  </td><td> 83311             </td><td> Bachelors         </td><td>13                 </td><td> Married-civ-spouse</td><td> Exec-managerial   </td><td> Husband           </td><td> White             </td><td> Male              </td><td>   0               </td><td>0                  </td><td>13                 </td><td> United-States     </td><td>0                  </td></tr>\n",
       "\t<tr><td>38                 </td><td> Private           </td><td>215646             </td><td> HS-grad           </td><td> 9                 </td><td> Divorced          </td><td> Handlers-cleaners </td><td> Not-in-family     </td><td> White             </td><td> Male              </td><td>   0               </td><td>0                  </td><td>40                 </td><td> United-States     </td><td>0                  </td></tr>\n",
       "\t<tr><td>53                 </td><td> Private           </td><td>234721             </td><td> 11th              </td><td> 7                 </td><td> Married-civ-spouse</td><td> Handlers-cleaners </td><td> Husband           </td><td> Black             </td><td> Male              </td><td>   0               </td><td>0                  </td><td>40                 </td><td> United-States     </td><td>0                  </td></tr>\n",
       "\t<tr><td>28                 </td><td> Private           </td><td>338409             </td><td> Bachelors         </td><td>13                 </td><td> Married-civ-spouse</td><td> Prof-specialty    </td><td> Wife              </td><td> Black             </td><td> Female            </td><td>   0               </td><td>0                  </td><td>40                 </td><td> Cuba              </td><td>0                  </td></tr>\n",
       "\t<tr><td>37                 </td><td> Private           </td><td>284582             </td><td> Masters           </td><td>14                 </td><td> Married-civ-spouse</td><td> Exec-managerial   </td><td> Wife              </td><td> White             </td><td> Female            </td><td>   0               </td><td>0                  </td><td>40                 </td><td> United-States     </td><td>0                  </td></tr>\n",
       "</tbody>\n",
       "</table>\n"
      ],
      "text/latex": [
       "\\begin{tabular}{r|lllllllllllllll}\n",
       " age & Workclass & fnlwgt & education & education.num & marital.status & occupation & relationship & race & sex & capital.gain & capital.loss & hours.per.week & native.country & Income\\\\\n",
       "\\hline\n",
       "\t 39                  &  State-gov          &  77516              &  Bachelors          & 13                  &  Never-married      &  Adm-clerical       &  Not-in-family      &  White              &  Male               & 2174                & 0                   & 40                  &  United-States      & 0                  \\\\\n",
       "\t 50                  &  Self-emp-not-inc   &  83311              &  Bachelors          & 13                  &  Married-civ-spouse &  Exec-managerial    &  Husband            &  White              &  Male               &    0                & 0                   & 13                  &  United-States      & 0                  \\\\\n",
       "\t 38                  &  Private            & 215646              &  HS-grad            &  9                  &  Divorced           &  Handlers-cleaners  &  Not-in-family      &  White              &  Male               &    0                & 0                   & 40                  &  United-States      & 0                  \\\\\n",
       "\t 53                  &  Private            & 234721              &  11th               &  7                  &  Married-civ-spouse &  Handlers-cleaners  &  Husband            &  Black              &  Male               &    0                & 0                   & 40                  &  United-States      & 0                  \\\\\n",
       "\t 28                  &  Private            & 338409              &  Bachelors          & 13                  &  Married-civ-spouse &  Prof-specialty     &  Wife               &  Black              &  Female             &    0                & 0                   & 40                  &  Cuba               & 0                  \\\\\n",
       "\t 37                  &  Private            & 284582              &  Masters            & 14                  &  Married-civ-spouse &  Exec-managerial    &  Wife               &  White              &  Female             &    0                & 0                   & 40                  &  United-States      & 0                  \\\\\n",
       "\\end{tabular}\n"
      ],
      "text/markdown": [
       "\n",
       "| age | Workclass | fnlwgt | education | education.num | marital.status | occupation | relationship | race | sex | capital.gain | capital.loss | hours.per.week | native.country | Income |\n",
       "|---|---|---|---|---|---|---|---|---|---|---|---|---|---|---|\n",
       "| 39                  |  State-gov          |  77516              |  Bachelors          | 13                  |  Never-married      |  Adm-clerical       |  Not-in-family      |  White              |  Male               | 2174                | 0                   | 40                  |  United-States      | 0                   |\n",
       "| 50                  |  Self-emp-not-inc   |  83311              |  Bachelors          | 13                  |  Married-civ-spouse |  Exec-managerial    |  Husband            |  White              |  Male               |    0                | 0                   | 13                  |  United-States      | 0                   |\n",
       "| 38                  |  Private            | 215646              |  HS-grad            |  9                  |  Divorced           |  Handlers-cleaners  |  Not-in-family      |  White              |  Male               |    0                | 0                   | 40                  |  United-States      | 0                   |\n",
       "| 53                  |  Private            | 234721              |  11th               |  7                  |  Married-civ-spouse |  Handlers-cleaners  |  Husband            |  Black              |  Male               |    0                | 0                   | 40                  |  United-States      | 0                   |\n",
       "| 28                  |  Private            | 338409              |  Bachelors          | 13                  |  Married-civ-spouse |  Prof-specialty     |  Wife               |  Black              |  Female             |    0                | 0                   | 40                  |  Cuba               | 0                   |\n",
       "| 37                  |  Private            | 284582              |  Masters            | 14                  |  Married-civ-spouse |  Exec-managerial    |  Wife               |  White              |  Female             |    0                | 0                   | 40                  |  United-States      | 0                   |\n",
       "\n"
      ],
      "text/plain": [
       "  age Workclass         fnlwgt education  education.num marital.status     \n",
       "1 39   State-gov         77516  Bachelors 13             Never-married     \n",
       "2 50   Self-emp-not-inc  83311  Bachelors 13             Married-civ-spouse\n",
       "3 38   Private          215646  HS-grad    9             Divorced          \n",
       "4 53   Private          234721  11th       7             Married-civ-spouse\n",
       "5 28   Private          338409  Bachelors 13             Married-civ-spouse\n",
       "6 37   Private          284582  Masters   14             Married-civ-spouse\n",
       "  occupation         relationship   race   sex     capital.gain capital.loss\n",
       "1  Adm-clerical       Not-in-family  White  Male   2174         0           \n",
       "2  Exec-managerial    Husband        White  Male      0         0           \n",
       "3  Handlers-cleaners  Not-in-family  White  Male      0         0           \n",
       "4  Handlers-cleaners  Husband        Black  Male      0         0           \n",
       "5  Prof-specialty     Wife           Black  Female    0         0           \n",
       "6  Exec-managerial    Wife           White  Female    0         0           \n",
       "  hours.per.week native.country Income\n",
       "1 40              United-States 0     \n",
       "2 13              United-States 0     \n",
       "3 40              United-States 0     \n",
       "4 40              United-States 0     \n",
       "5 40              Cuba          0     \n",
       "6 40              United-States 0     "
      ]
     },
     "metadata": {},
     "output_type": "display_data"
    }
   ],
   "source": [
    "head(df)"
   ]
  },
  {
   "cell_type": "code",
   "execution_count": 8,
   "metadata": {},
   "outputs": [
    {
     "data": {
      "text/html": [
       "FALSE"
      ],
      "text/latex": [
       "FALSE"
      ],
      "text/markdown": [
       "FALSE"
      ],
      "text/plain": [
       "[1] FALSE"
      ]
     },
     "metadata": {},
     "output_type": "display_data"
    }
   ],
   "source": [
    "any(is.na(data))"
   ]
  },
  {
   "cell_type": "code",
   "execution_count": 9,
   "metadata": {},
   "outputs": [],
   "source": [
    "# To check the missing values in the columns\n",
    "for(col in colnames(data)){\n",
    "    if(any(is.na(data[col]))){\n",
    "        print(col)\n",
    "    }\n",
    "}"
   ]
  },
  {
   "cell_type": "code",
   "execution_count": 10,
   "metadata": {},
   "outputs": [
    {
     "name": "stdout",
     "output_type": "stream",
     "text": [
      "'data.frame':\t1032 obs. of  16 variables:\n",
      " $ X             : int  0 1 2 3 4 5 6 7 8 9 ...\n",
      " $ age           : int  39 50 38 53 28 37 49 52 31 42 ...\n",
      " $ Workclass     : Factor w/ 6 levels \" Federal-gov\",..: 6 5 3 3 3 3 3 5 3 3 ...\n",
      " $ fnlwgt        : int  77516 83311 215646 234721 338409 284582 160187 209642 45781 159449 ...\n",
      " $ education     : Factor w/ 16 levels \" 10th\",\" 11th\",..: 10 10 12 2 10 13 7 12 13 10 ...\n",
      " $ education.num : int  13 13 9 7 13 14 5 9 14 13 ...\n",
      " $ marital.status: Factor w/ 7 levels \" Divorced\",\" Married-AF-spouse\",..: 5 3 1 3 3 3 4 3 5 3 ...\n",
      " $ occupation    : Factor w/ 14 levels \" Adm-clerical\",..: 1 4 6 6 10 4 8 4 10 4 ...\n",
      " $ relationship  : Factor w/ 6 levels \" Husband\",\" Not-in-family\",..: 2 1 2 1 6 6 2 1 2 1 ...\n",
      " $ race          : Factor w/ 5 levels \" Amer-Indian-Eskimo\",..: 5 5 5 3 3 5 3 5 5 5 ...\n",
      " $ sex           : Factor w/ 2 levels \" Female\",\" Male\": 2 2 2 2 1 1 1 2 1 2 ...\n",
      " $ capital.gain  : int  2174 0 0 0 0 0 0 0 14084 5178 ...\n",
      " $ capital.loss  : int  0 0 0 0 0 0 0 0 0 0 ...\n",
      " $ hours.per.week: int  40 13 40 40 40 40 16 45 50 40 ...\n",
      " $ native.country: Factor w/ 30 levels \" Cambodia\",\" Canada\",..: 29 29 29 29 5 29 18 29 29 29 ...\n",
      " $ Income        : int  0 0 0 0 0 0 0 1 1 1 ...\n"
     ]
    }
   ],
   "source": [
    "str(data)"
   ]
  },
  {
   "cell_type": "code",
   "execution_count": 11,
   "metadata": {},
   "outputs": [],
   "source": [
    "# install.packages(\"ggplot2\")"
   ]
  },
  {
   "cell_type": "code",
   "execution_count": 12,
   "metadata": {},
   "outputs": [],
   "source": [
    "library(ggplot2)"
   ]
  },
  {
   "cell_type": "code",
   "execution_count": 13,
   "metadata": {},
   "outputs": [
    {
     "data": {
      "text/plain": [
       "      age                    Workclass       fnlwgt                education  \n",
       " Min.   :17.00    Federal-gov     : 22   Min.   :  21174    HS-grad     :338  \n",
       " 1st Qu.:28.00    Local-gov       : 76   1st Qu.: 115579    Some-college:225  \n",
       " Median :37.00    Private         :766   Median : 180707    Bachelors   :184  \n",
       " Mean   :37.95    Self-emp-inc    : 38   Mean   : 191832    Masters     : 56  \n",
       " 3rd Qu.:46.00    Self-emp-not-inc: 90   3rd Qu.: 246193    Assoc-voc   : 50  \n",
       " Max.   :90.00    State-gov       : 40   Max.   :1033222    11th        : 39  \n",
       "                                                           (Other)      :140  \n",
       " education.num                  marital.status            occupation \n",
       " Min.   : 1.00    Divorced             :142     Prof-specialty :143  \n",
       " 1st Qu.: 9.00    Married-AF-spouse    :  1     Craft-repair   :136  \n",
       " Median :10.00    Married-civ-spouse   :472     Exec-managerial:131  \n",
       " Mean   :10.22    Married-spouse-absent: 14     Sales          :126  \n",
       " 3rd Qu.:13.00    Never-married        :345     Other-service  :119  \n",
       " Max.   :16.00    Separated            : 30     Adm-clerical   :101  \n",
       "                  Widowed              : 28    (Other)         :276  \n",
       "          relationship                  race          sex     \n",
       "  Husband       :401    Amer-Indian-Eskimo:  7    Female:331  \n",
       "  Not-in-family :290    Asian-Pac-Islander: 26    Male  :701  \n",
       "  Other-relative: 20    Black             :107                \n",
       "  Own-child     :148    Other             :  6                \n",
       "  Unmarried     :107    White             :886                \n",
       "  Wife          : 66                                          \n",
       "                                                              \n",
       "  capital.gain      capital.loss    hours.per.week         native.country\n",
       " Min.   :    0.0   Min.   :   0.0   Min.   : 1.00    United-States:943   \n",
       " 1st Qu.:    0.0   1st Qu.:   0.0   1st Qu.:40.00    Mexico       : 23   \n",
       " Median :    0.0   Median :   0.0   Median :40.00    India        :  5   \n",
       " Mean   :  560.2   Mean   : 102.9   Mean   :40.71    Cuba         :  4   \n",
       " 3rd Qu.:    0.0   3rd Qu.:   0.0   3rd Qu.:45.00    Germany      :  4   \n",
       " Max.   :25236.0   Max.   :2415.0   Max.   :99.00    Iran         :  4   \n",
       "                                                    (Other)       : 49   \n",
       "     Income      \n",
       " Min.   :0.0000  \n",
       " 1st Qu.:0.0000  \n",
       " Median :0.0000  \n",
       " Mean   :0.2461  \n",
       " 3rd Qu.:0.0000  \n",
       " Max.   :1.0000  \n",
       "                 "
      ]
     },
     "metadata": {},
     "output_type": "display_data"
    },
    {
     "data": {
      "text/html": [
       "0.219668904023133"
      ],
      "text/latex": [
       "0.219668904023133"
      ],
      "text/markdown": [
       "0.219668904023133"
      ],
      "text/plain": [
       "[1] 0.2196689"
      ]
     },
     "metadata": {},
     "output_type": "display_data"
    }
   ],
   "source": [
    "# Handling Skewness\n",
    "#install.packages(\"e1071\")\n",
    "library(e1071)\n",
    "summary(df)\n",
    "skewness(sqrt(df$fnlwgt))"
   ]
  },
  {
   "cell_type": "code",
   "execution_count": 14,
   "metadata": {},
   "outputs": [],
   "source": [
    "# Check the how many Catagorical Variables in given data"
   ]
  },
  {
   "cell_type": "code",
   "execution_count": 15,
   "metadata": {},
   "outputs": [
    {
     "data": {
      "text/html": [
       "<ol class=list-inline>\n",
       "\t<li>'Workclass'</li>\n",
       "\t<li>'education'</li>\n",
       "\t<li>'marital.status'</li>\n",
       "\t<li>'occupation'</li>\n",
       "\t<li>'relationship'</li>\n",
       "\t<li>'race'</li>\n",
       "\t<li>'sex'</li>\n",
       "\t<li>'native.country'</li>\n",
       "</ol>\n"
      ],
      "text/latex": [
       "\\begin{enumerate*}\n",
       "\\item 'Workclass'\n",
       "\\item 'education'\n",
       "\\item 'marital.status'\n",
       "\\item 'occupation'\n",
       "\\item 'relationship'\n",
       "\\item 'race'\n",
       "\\item 'sex'\n",
       "\\item 'native.country'\n",
       "\\end{enumerate*}\n"
      ],
      "text/markdown": [
       "1. 'Workclass'\n",
       "2. 'education'\n",
       "3. 'marital.status'\n",
       "4. 'occupation'\n",
       "5. 'relationship'\n",
       "6. 'race'\n",
       "7. 'sex'\n",
       "8. 'native.country'\n",
       "\n",
       "\n"
      ],
      "text/plain": [
       "[1] \"Workclass\"      \"education\"      \"marital.status\" \"occupation\"    \n",
       "[5] \"relationship\"   \"race\"           \"sex\"            \"native.country\""
      ]
     },
     "metadata": {},
     "output_type": "display_data"
    }
   ],
   "source": [
    "df.fact <- sapply(df,is.factor)\n",
    "colnames(df[,df.fact])\n"
   ]
  },
  {
   "cell_type": "code",
   "execution_count": 16,
   "metadata": {},
   "outputs": [],
   "source": [
    "# Convert Catagorical data into Numeric Form"
   ]
  },
  {
   "cell_type": "code",
   "execution_count": 17,
   "metadata": {},
   "outputs": [],
   "source": [
    "df$Workclass <- as.numeric(df$Workclass)\n",
    "df$education <-as.numeric(df$education)\n",
    "df$marital.status <-as.numeric(df$marital.status)\n",
    "df$occupation <-as.numeric(df$occupation)\n",
    "df$relationship <-as.numeric(df$relationship)\n",
    "df$race <-as.numeric(df$race)\n",
    "df$sex <-as.numeric(df$sex)\n",
    "df$native.country <-as.numeric(df$native.country)\n"
   ]
  },
  {
   "cell_type": "code",
   "execution_count": 18,
   "metadata": {},
   "outputs": [
    {
     "data": {
      "text/html": [
       "<table>\n",
       "<thead><tr><th scope=col>age</th><th scope=col>Workclass</th><th scope=col>fnlwgt</th><th scope=col>education</th><th scope=col>education.num</th><th scope=col>marital.status</th><th scope=col>occupation</th><th scope=col>relationship</th><th scope=col>race</th><th scope=col>sex</th><th scope=col>capital.gain</th><th scope=col>capital.loss</th><th scope=col>hours.per.week</th><th scope=col>native.country</th><th scope=col>Income</th></tr></thead>\n",
       "<tbody>\n",
       "\t<tr><td>39    </td><td>6     </td><td> 77516</td><td>10    </td><td>13    </td><td>5     </td><td> 1    </td><td>2     </td><td>5     </td><td>2     </td><td>2174  </td><td>0     </td><td>40    </td><td>29    </td><td>0     </td></tr>\n",
       "\t<tr><td>50    </td><td>5     </td><td> 83311</td><td>10    </td><td>13    </td><td>3     </td><td> 4    </td><td>1     </td><td>5     </td><td>2     </td><td>   0  </td><td>0     </td><td>13    </td><td>29    </td><td>0     </td></tr>\n",
       "\t<tr><td>38    </td><td>3     </td><td>215646</td><td>12    </td><td> 9    </td><td>1     </td><td> 6    </td><td>2     </td><td>5     </td><td>2     </td><td>   0  </td><td>0     </td><td>40    </td><td>29    </td><td>0     </td></tr>\n",
       "\t<tr><td>53    </td><td>3     </td><td>234721</td><td> 2    </td><td> 7    </td><td>3     </td><td> 6    </td><td>1     </td><td>3     </td><td>2     </td><td>   0  </td><td>0     </td><td>40    </td><td>29    </td><td>0     </td></tr>\n",
       "\t<tr><td>28    </td><td>3     </td><td>338409</td><td>10    </td><td>13    </td><td>3     </td><td>10    </td><td>6     </td><td>3     </td><td>1     </td><td>   0  </td><td>0     </td><td>40    </td><td> 5    </td><td>0     </td></tr>\n",
       "\t<tr><td>37    </td><td>3     </td><td>284582</td><td>13    </td><td>14    </td><td>3     </td><td> 4    </td><td>6     </td><td>5     </td><td>1     </td><td>   0  </td><td>0     </td><td>40    </td><td>29    </td><td>0     </td></tr>\n",
       "</tbody>\n",
       "</table>\n"
      ],
      "text/latex": [
       "\\begin{tabular}{r|lllllllllllllll}\n",
       " age & Workclass & fnlwgt & education & education.num & marital.status & occupation & relationship & race & sex & capital.gain & capital.loss & hours.per.week & native.country & Income\\\\\n",
       "\\hline\n",
       "\t 39     & 6      &  77516 & 10     & 13     & 5      &  1     & 2      & 5      & 2      & 2174   & 0      & 40     & 29     & 0     \\\\\n",
       "\t 50     & 5      &  83311 & 10     & 13     & 3      &  4     & 1      & 5      & 2      &    0   & 0      & 13     & 29     & 0     \\\\\n",
       "\t 38     & 3      & 215646 & 12     &  9     & 1      &  6     & 2      & 5      & 2      &    0   & 0      & 40     & 29     & 0     \\\\\n",
       "\t 53     & 3      & 234721 &  2     &  7     & 3      &  6     & 1      & 3      & 2      &    0   & 0      & 40     & 29     & 0     \\\\\n",
       "\t 28     & 3      & 338409 & 10     & 13     & 3      & 10     & 6      & 3      & 1      &    0   & 0      & 40     &  5     & 0     \\\\\n",
       "\t 37     & 3      & 284582 & 13     & 14     & 3      &  4     & 6      & 5      & 1      &    0   & 0      & 40     & 29     & 0     \\\\\n",
       "\\end{tabular}\n"
      ],
      "text/markdown": [
       "\n",
       "| age | Workclass | fnlwgt | education | education.num | marital.status | occupation | relationship | race | sex | capital.gain | capital.loss | hours.per.week | native.country | Income |\n",
       "|---|---|---|---|---|---|---|---|---|---|---|---|---|---|---|\n",
       "| 39     | 6      |  77516 | 10     | 13     | 5      |  1     | 2      | 5      | 2      | 2174   | 0      | 40     | 29     | 0      |\n",
       "| 50     | 5      |  83311 | 10     | 13     | 3      |  4     | 1      | 5      | 2      |    0   | 0      | 13     | 29     | 0      |\n",
       "| 38     | 3      | 215646 | 12     |  9     | 1      |  6     | 2      | 5      | 2      |    0   | 0      | 40     | 29     | 0      |\n",
       "| 53     | 3      | 234721 |  2     |  7     | 3      |  6     | 1      | 3      | 2      |    0   | 0      | 40     | 29     | 0      |\n",
       "| 28     | 3      | 338409 | 10     | 13     | 3      | 10     | 6      | 3      | 1      |    0   | 0      | 40     |  5     | 0      |\n",
       "| 37     | 3      | 284582 | 13     | 14     | 3      |  4     | 6      | 5      | 1      |    0   | 0      | 40     | 29     | 0      |\n",
       "\n"
      ],
      "text/plain": [
       "  age Workclass fnlwgt education education.num marital.status occupation\n",
       "1 39  6          77516 10        13            5               1        \n",
       "2 50  5          83311 10        13            3               4        \n",
       "3 38  3         215646 12         9            1               6        \n",
       "4 53  3         234721  2         7            3               6        \n",
       "5 28  3         338409 10        13            3              10        \n",
       "6 37  3         284582 13        14            3               4        \n",
       "  relationship race sex capital.gain capital.loss hours.per.week native.country\n",
       "1 2            5    2   2174         0            40             29            \n",
       "2 1            5    2      0         0            13             29            \n",
       "3 2            5    2      0         0            40             29            \n",
       "4 1            3    2      0         0            40             29            \n",
       "5 6            3    1      0         0            40              5            \n",
       "6 6            5    1      0         0            40             29            \n",
       "  Income\n",
       "1 0     \n",
       "2 0     \n",
       "3 0     \n",
       "4 0     \n",
       "5 0     \n",
       "6 0     "
      ]
     },
     "metadata": {},
     "output_type": "display_data"
    }
   ],
   "source": [
    "head(df)"
   ]
  },
  {
   "cell_type": "markdown",
   "metadata": {},
   "source": [
    "# Visualization"
   ]
  },
  {
   "cell_type": "code",
   "execution_count": 19,
   "metadata": {},
   "outputs": [],
   "source": [
    "data <- read.csv(\"E:/ITVEDANT R/Project_data.csv\")\n",
    "data <-select(data,-c(X))"
   ]
  },
  {
   "cell_type": "code",
   "execution_count": 20,
   "metadata": {},
   "outputs": [
    {
     "name": "stderr",
     "output_type": "stream",
     "text": [
      "`stat_bin()` using `bins = 30`. Pick better value with `binwidth`.\n"
     ]
    },
    {
     "data": {
      "image/png": "[encoded data removed]",
      "text/plain": [
       "plot without title"
      ]
     },
     "metadata": {},
     "output_type": "display_data"
    }
   ],
   "source": [
    "# Histogram\n",
    "pl<- ggplot(data,aes(x=fnlwgt))\n",
    "pl<- pl + geom_histogram(fill=\"grey\",color=\"black\")\n",
    "print(pl)"
   ]
  },
  {
   "cell_type": "code",
   "execution_count": 21,
   "metadata": {},
   "outputs": [
    {
     "data": {
      "image/png": "[encoded data removed]",
      "text/plain": [
       "plot without title"
      ]
     },
     "metadata": {},
     "output_type": "display_data"
    }
   ],
   "source": [
    "#plot of Education.num vs frequency\n",
    "\n",
    "pl2<- ggplot(data,aes(x=education.num))\n",
    "pl2<- pl2 + geom_histogram(fill=\"skyblue\",color=\"skyblue\",binwidth=0.4) + xlab(\"education.num\") + ylab(\"frequency\") + ggtitle(\"width vs frequency\")\n",
    "print(pl2)\n",
    "\n"
   ]
  },
  {
   "cell_type": "code",
   "execution_count": 22,
   "metadata": {},
   "outputs": [
    {
     "data": {
      "image/png": "[encoded data removed]",
      "text/plain": [
       "plot without title"
      ]
     },
     "metadata": {},
     "output_type": "display_data"
    }
   ],
   "source": [
    "## education.num vs Frequency\n",
    "# data and aesthetics\n",
    "ed<- ggplot(data,aes(x=education.num))\n",
    "#geometry\n",
    "ed <- ed + geom_histogram(aes(fill=..count..),color=\"blue\",binwidth=0.3) + xlab(\"education.num\") + ylab(\"frequency\") + ggtitle(\"education.num vs frequency\")\n",
    "ed = ed + scale_fill_gradient('count',high='lightblue',low='green')\n",
    "print(ed)\n"
   ]
  },
  {
   "cell_type": "code",
   "execution_count": 23,
   "metadata": {},
   "outputs": [
    {
     "data": {
      "image/png": "[encoded data removed]",
      "text/plain": [
       "plot without title"
      ]
     },
     "metadata": {},
     "output_type": "display_data"
    }
   ],
   "source": [
    "## Histogram  hours.per.week vs Frequency\n",
    "# data and aesthetics\n",
    "hpw<- ggplot(data,aes(x=hours.per.week))\n",
    "#geometry\n",
    "hpw<- hpw + geom_histogram(aes(fill=..count..),color=\"skyblue\",binwidth=0.8) + xlab(\"hours.per.week\") + ylab(\"frequency\") + ggtitle(\"hours.per.week vs frequency\")\n",
    "hpw<- hpw+ scale_fill_gradient('count',high='red',low='black')\n",
    "print(hpw)\n"
   ]
  },
  {
   "cell_type": "markdown",
   "metadata": {},
   "source": [
    " # Bar Plot"
   ]
  },
  {
   "cell_type": "code",
   "execution_count": 24,
   "metadata": {},
   "outputs": [
    {
     "data": {
      "image/png": "[encoded data removed]",
      "text/plain": [
       "plot without title"
      ]
     },
     "metadata": {},
     "output_type": "display_data"
    }
   ],
   "source": [
    "bp<- ggplot(data,aes(Workclass))\n",
    "bp+ geom_bar()\n"
   ]
  },
  {
   "cell_type": "code",
   "execution_count": 25,
   "metadata": {},
   "outputs": [
    {
     "data": {
      "image/png": "[encoded data removed]",
      "text/plain": [
       "plot without title"
      ]
     },
     "metadata": {},
     "output_type": "display_data"
    }
   ],
   "source": [
    "bp1 <- ggplot(data, aes(relationship))\n",
    "bp1+ geom_bar()\n"
   ]
  },
  {
   "cell_type": "code",
   "execution_count": 26,
   "metadata": {},
   "outputs": [
    {
     "data": {
      "image/png": "[encoded data removed]",
      "text/plain": [
       "plot without title"
      ]
     },
     "metadata": {},
     "output_type": "display_data"
    }
   ],
   "source": [
    "bp2<- ggplot(data, aes(occupation))\n",
    "bp2 + geom_bar()\n"
   ]
  },
  {
   "cell_type": "code",
   "execution_count": 27,
   "metadata": {},
   "outputs": [
    {
     "data": {
      "image/png": "[encoded data removed]",
      "text/plain": [
       "plot without title"
      ]
     },
     "metadata": {},
     "output_type": "display_data"
    }
   ],
   "source": [
    "oe<- ggplot(data, aes(education.num))\n",
    "oe+ geom_bar(aes(fill = education))"
   ]
  },
  {
   "cell_type": "code",
   "execution_count": 28,
   "metadata": {},
   "outputs": [
    {
     "data": {
      "image/png": "[encoded data removed]",
      "text/plain": [
       "plot without title"
      ]
     },
     "metadata": {},
     "output_type": "display_data"
    }
   ],
   "source": [
    "race<- ggplot(data, aes(race))\n",
    "race+ geom_bar()"
   ]
  },
  {
   "cell_type": "markdown",
   "metadata": {},
   "source": [
    "# Multiple Bar Diagram"
   ]
  },
  {
   "cell_type": "code",
   "execution_count": 29,
   "metadata": {},
   "outputs": [
    {
     "data": {
      "image/png": "[encoded data removed]",
      "text/plain": [
       "plot without title"
      ]
     },
     "metadata": {},
     "output_type": "display_data"
    }
   ],
   "source": [
    "we<- ggplot(data, aes(Workclass))\n",
    "we+ geom_bar(aes(fill = education))\n",
    "\n",
    "\n"
   ]
  },
  {
   "cell_type": "code",
   "execution_count": 30,
   "metadata": {},
   "outputs": [
    {
     "data": {
      "image/png": "[encoded data removed]",
      "text/plain": [
       "plot without title"
      ]
     },
     "metadata": {},
     "output_type": "display_data"
    }
   ],
   "source": [
    "ew<- ggplot(data, aes(education))\n",
    "ew+ geom_bar(aes(fill = Workclass))\n",
    "\n"
   ]
  },
  {
   "cell_type": "code",
   "execution_count": 31,
   "metadata": {},
   "outputs": [
    {
     "data": {
      "image/png": "[encoded data removed]",
      "text/plain": [
       "plot without title"
      ]
     },
     "metadata": {},
     "output_type": "display_data"
    }
   ],
   "source": [
    "##workclass vs count # graph of percentiles\n",
    "g <- ggplot(data, aes(Workclass))\n",
    "g + geom_bar(aes(fill = education),position=\"fill\") + xlab(\"Workclass\") + ylab(\"count\") + ggtitle(\"Workclass vs count\")\n",
    "\n"
   ]
  },
  {
   "cell_type": "code",
   "execution_count": 32,
   "metadata": {},
   "outputs": [
    {
     "data": {
      "image/png": "[encoded data removed]",
      "text/plain": [
       "plot without title"
      ]
     },
     "metadata": {},
     "output_type": "display_data"
    }
   ],
   "source": [
    "### Boxplot\n",
    "bxp<- ggplot(data,aes(education,hours.per.week))\n",
    "bxp + geom_boxplot()    #outliers in HS-graduate,Assoc-voc,Bachelors,Some college\n"
   ]
  },
  {
   "cell_type": "code",
   "execution_count": 33,
   "metadata": {},
   "outputs": [
    {
     "data": {
      "image/png": "[encoded data removed]",
      "text/plain": [
       "plot without title"
      ]
     },
     "metadata": {},
     "output_type": "display_data"
    }
   ],
   "source": [
    "bpl<- ggplot(data, aes(occupation,hours.per.week))\n",
    "bpl + geom_boxplot(aes(fill=occupation))\n",
    "\n",
    "\n"
   ]
  },
  {
   "cell_type": "code",
   "execution_count": 34,
   "metadata": {},
   "outputs": [
    {
     "data": {
      "image/png": "[encoded data removed]",
      "text/plain": [
       "plot without title"
      ]
     },
     "metadata": {},
     "output_type": "display_data"
    }
   ],
   "source": [
    "## 2d density plot\n",
    "dp1<- ggplot(data,aes(x=education.num,y=hours.per.week))\n",
    "dp1 + geom_density2d()\n",
    "\n"
   ]
  },
  {
   "cell_type": "code",
   "execution_count": 35,
   "metadata": {},
   "outputs": [
    {
     "data": {
      "image/png": "[encoded data removed]",
      "text/plain": [
       "plot without title"
      ]
     },
     "metadata": {},
     "output_type": "display_data"
    }
   ],
   "source": [
    "### FACETTING\n",
    "\n",
    "fp <- ggplot(data,aes(Workclass, hours.per.week)) + geom_point()\n",
    "fp + facet_grid(. ~occupation)\n",
    "\n"
   ]
  },
  {
   "cell_type": "code",
   "execution_count": 36,
   "metadata": {},
   "outputs": [],
   "source": [
    "##Themes\n",
    "#install.packages(\"ggthemes\")\n",
    "\n"
   ]
  },
  {
   "cell_type": "code",
   "execution_count": 37,
   "metadata": {},
   "outputs": [
    {
     "data": {
      "image/png": "[encoded data removed]",
      "text/plain": [
       "plot without title"
      ]
     },
     "metadata": {},
     "output_type": "display_data"
    }
   ],
   "source": [
    "library(ggthemes)\n",
    "tp<- ggplot(data, aes(education.num,hours.per.week)) + geom_point()\n",
    "tp <- tp + facet_grid(. ~ Workclass)\n",
    "tp <- tp + theme_dark()\n",
    "tp + theme_economist_white()"
   ]
  },
  {
   "cell_type": "markdown",
   "metadata": {},
   "source": [
    "# Sampling,Modeling,Prediction"
   ]
  },
  {
   "cell_type": "code",
   "execution_count": 38,
   "metadata": {},
   "outputs": [],
   "source": [
    "#install.packages(\"caTools\")"
   ]
  },
  {
   "cell_type": "code",
   "execution_count": 39,
   "metadata": {},
   "outputs": [],
   "source": [
    "#install.packages(\"modelr\")"
   ]
  },
  {
   "cell_type": "code",
   "execution_count": 40,
   "metadata": {},
   "outputs": [],
   "source": [
    "#install.packages(\"glmnet\")"
   ]
  },
  {
   "cell_type": "code",
   "execution_count": 41,
   "metadata": {},
   "outputs": [
    {
     "name": "stderr",
     "output_type": "stream",
     "text": [
      "Loading required package: Matrix\n",
      "Loaded glmnet 3.0-2\n",
      "\n"
     ]
    }
   ],
   "source": [
    "library(modelr)\n",
    "library(caTools)\n",
    "library(glmnet)"
   ]
  },
  {
   "cell_type": "markdown",
   "metadata": {},
   "source": [
    "# Logistic Regression"
   ]
  },
  {
   "cell_type": "code",
   "execution_count": 42,
   "metadata": {},
   "outputs": [],
   "source": [
    "set.seed(101)\n",
    "sample <- sample.split(df,SplitRatio=.70)"
   ]
  },
  {
   "cell_type": "code",
   "execution_count": 43,
   "metadata": {},
   "outputs": [],
   "source": [
    "train <- subset(df,sample==TRUE)"
   ]
  },
  {
   "cell_type": "code",
   "execution_count": 44,
   "metadata": {},
   "outputs": [
    {
     "data": {
      "text/html": [
       "<table>\n",
       "<thead><tr><th></th><th scope=col>age</th><th scope=col>Workclass</th><th scope=col>fnlwgt</th><th scope=col>education</th><th scope=col>education.num</th><th scope=col>marital.status</th><th scope=col>occupation</th><th scope=col>relationship</th><th scope=col>race</th><th scope=col>sex</th><th scope=col>capital.gain</th><th scope=col>capital.loss</th><th scope=col>hours.per.week</th><th scope=col>native.country</th><th scope=col>Income</th></tr></thead>\n",
       "<tbody>\n",
       "\t<tr><th scope=row>1</th><td>39    </td><td>6     </td><td> 77516</td><td>10    </td><td>13    </td><td>5     </td><td> 1    </td><td>2     </td><td>5     </td><td>2     </td><td>2174  </td><td>0     </td><td>40    </td><td>29    </td><td>0     </td></tr>\n",
       "\t<tr><th scope=row>2</th><td>50    </td><td>5     </td><td> 83311</td><td>10    </td><td>13    </td><td>3     </td><td> 4    </td><td>1     </td><td>5     </td><td>2     </td><td>   0  </td><td>0     </td><td>13    </td><td>29    </td><td>0     </td></tr>\n",
       "\t<tr><th scope=row>4</th><td>53    </td><td>3     </td><td>234721</td><td> 2    </td><td> 7    </td><td>3     </td><td> 6    </td><td>1     </td><td>3     </td><td>2     </td><td>   0  </td><td>0     </td><td>40    </td><td>29    </td><td>0     </td></tr>\n",
       "\t<tr><th scope=row>5</th><td>28    </td><td>3     </td><td>338409</td><td>10    </td><td>13    </td><td>3     </td><td>10    </td><td>6     </td><td>3     </td><td>1     </td><td>   0  </td><td>0     </td><td>40    </td><td> 5    </td><td>0     </td></tr>\n",
       "\t<tr><th scope=row>6</th><td>37    </td><td>3     </td><td>284582</td><td>13    </td><td>14    </td><td>3     </td><td> 4    </td><td>6     </td><td>5     </td><td>1     </td><td>   0  </td><td>0     </td><td>40    </td><td>29    </td><td>0     </td></tr>\n",
       "\t<tr><th scope=row>7</th><td>49    </td><td>3     </td><td>160187</td><td> 7    </td><td> 5    </td><td>4     </td><td> 8    </td><td>2     </td><td>3     </td><td>1     </td><td>   0  </td><td>0     </td><td>16    </td><td>18    </td><td>0     </td></tr>\n",
       "</tbody>\n",
       "</table>\n"
      ],
      "text/latex": [
       "\\begin{tabular}{r|lllllllllllllll}\n",
       "  & age & Workclass & fnlwgt & education & education.num & marital.status & occupation & relationship & race & sex & capital.gain & capital.loss & hours.per.week & native.country & Income\\\\\n",
       "\\hline\n",
       "\t1 & 39     & 6      &  77516 & 10     & 13     & 5      &  1     & 2      & 5      & 2      & 2174   & 0      & 40     & 29     & 0     \\\\\n",
       "\t2 & 50     & 5      &  83311 & 10     & 13     & 3      &  4     & 1      & 5      & 2      &    0   & 0      & 13     & 29     & 0     \\\\\n",
       "\t4 & 53     & 3      & 234721 &  2     &  7     & 3      &  6     & 1      & 3      & 2      &    0   & 0      & 40     & 29     & 0     \\\\\n",
       "\t5 & 28     & 3      & 338409 & 10     & 13     & 3      & 10     & 6      & 3      & 1      &    0   & 0      & 40     &  5     & 0     \\\\\n",
       "\t6 & 37     & 3      & 284582 & 13     & 14     & 3      &  4     & 6      & 5      & 1      &    0   & 0      & 40     & 29     & 0     \\\\\n",
       "\t7 & 49     & 3      & 160187 &  7     &  5     & 4      &  8     & 2      & 3      & 1      &    0   & 0      & 16     & 18     & 0     \\\\\n",
       "\\end{tabular}\n"
      ],
      "text/markdown": [
       "\n",
       "| <!--/--> | age | Workclass | fnlwgt | education | education.num | marital.status | occupation | relationship | race | sex | capital.gain | capital.loss | hours.per.week | native.country | Income |\n",
       "|---|---|---|---|---|---|---|---|---|---|---|---|---|---|---|---|\n",
       "| 1 | 39     | 6      |  77516 | 10     | 13     | 5      |  1     | 2      | 5      | 2      | 2174   | 0      | 40     | 29     | 0      |\n",
       "| 2 | 50     | 5      |  83311 | 10     | 13     | 3      |  4     | 1      | 5      | 2      |    0   | 0      | 13     | 29     | 0      |\n",
       "| 4 | 53     | 3      | 234721 |  2     |  7     | 3      |  6     | 1      | 3      | 2      |    0   | 0      | 40     | 29     | 0      |\n",
       "| 5 | 28     | 3      | 338409 | 10     | 13     | 3      | 10     | 6      | 3      | 1      |    0   | 0      | 40     |  5     | 0      |\n",
       "| 6 | 37     | 3      | 284582 | 13     | 14     | 3      |  4     | 6      | 5      | 1      |    0   | 0      | 40     | 29     | 0      |\n",
       "| 7 | 49     | 3      | 160187 |  7     |  5     | 4      |  8     | 2      | 3      | 1      |    0   | 0      | 16     | 18     | 0      |\n",
       "\n"
      ],
      "text/plain": [
       "  age Workclass fnlwgt education education.num marital.status occupation\n",
       "1 39  6          77516 10        13            5               1        \n",
       "2 50  5          83311 10        13            3               4        \n",
       "4 53  3         234721  2         7            3               6        \n",
       "5 28  3         338409 10        13            3              10        \n",
       "6 37  3         284582 13        14            3               4        \n",
       "7 49  3         160187  7         5            4               8        \n",
       "  relationship race sex capital.gain capital.loss hours.per.week native.country\n",
       "1 2            5    2   2174         0            40             29            \n",
       "2 1            5    2      0         0            13             29            \n",
       "4 1            3    2      0         0            40             29            \n",
       "5 6            3    1      0         0            40              5            \n",
       "6 6            5    1      0         0            40             29            \n",
       "7 2            3    1      0         0            16             18            \n",
       "  Income\n",
       "1 0     \n",
       "2 0     \n",
       "4 0     \n",
       "5 0     \n",
       "6 0     \n",
       "7 0     "
      ]
     },
     "metadata": {},
     "output_type": "display_data"
    }
   ],
   "source": [
    "head(train)"
   ]
  },
  {
   "cell_type": "code",
   "execution_count": 45,
   "metadata": {},
   "outputs": [],
   "source": [
    "test <- subset(df,sample== FALSE)"
   ]
  },
  {
   "cell_type": "code",
   "execution_count": 46,
   "metadata": {},
   "outputs": [],
   "source": [
    "model <- glm(Income~.,family=binomial(link=\"logit\"),data=train)"
   ]
  },
  {
   "cell_type": "code",
   "execution_count": 47,
   "metadata": {},
   "outputs": [
    {
     "data": {
      "text/html": [
       "<ol class=list-inline>\n",
       "\t<li>0</li>\n",
       "\t<li>0</li>\n",
       "\t<li>0</li>\n",
       "\t<li>0</li>\n",
       "\t<li>0</li>\n",
       "\t<li>0</li>\n",
       "</ol>\n"
      ],
      "text/latex": [
       "\\begin{enumerate*}\n",
       "\\item 0\n",
       "\\item 0\n",
       "\\item 0\n",
       "\\item 0\n",
       "\\item 0\n",
       "\\item 0\n",
       "\\end{enumerate*}\n"
      ],
      "text/markdown": [
       "1. 0\n",
       "2. 0\n",
       "3. 0\n",
       "4. 0\n",
       "5. 0\n",
       "6. 0\n",
       "\n",
       "\n"
      ],
      "text/plain": [
       "[1] 0 0 0 0 0 0"
      ]
     },
     "metadata": {},
     "output_type": "display_data"
    }
   ],
   "source": [
    "head(df$Income)"
   ]
  },
  {
   "cell_type": "code",
   "execution_count": 48,
   "metadata": {},
   "outputs": [
    {
     "data": {
      "text/plain": [
       "\n",
       "Call:\n",
       "glm(formula = Income ~ ., family = binomial(link = \"logit\"), \n",
       "    data = train)\n",
       "\n",
       "Deviance Residuals: \n",
       "    Min       1Q   Median       3Q      Max  \n",
       "-2.5749  -0.6684  -0.3706  -0.1234   2.4827  \n",
       "\n",
       "Coefficients:\n",
       "                 Estimate Std. Error z value Pr(>|z|)    \n",
       "(Intercept)    -8.770e+00  1.625e+00  -5.398 6.76e-08 ***\n",
       "age             4.662e-02  9.465e-03   4.925 8.43e-07 ***\n",
       "Workclass      -1.032e-01  1.095e-01  -0.942 0.346011    \n",
       "fnlwgt          9.544e-07  1.002e-06   0.953 0.340662    \n",
       "education      -1.083e-02  3.476e-02  -0.312 0.755366    \n",
       "education.num   2.838e-01  4.996e-02   5.681 1.34e-08 ***\n",
       "marital.status -2.801e-01  8.166e-02  -3.431 0.000602 ***\n",
       "occupation      1.537e-02  2.728e-02   0.563 0.573217    \n",
       "relationship   -2.320e-03  8.857e-02  -0.026 0.979104    \n",
       "race           -3.220e-02  1.481e-01  -0.217 0.827875    \n",
       "sex             1.046e+00  3.289e-01   3.182 0.001462 ** \n",
       "capital.gain    4.015e-04  8.354e-05   4.806 1.54e-06 ***\n",
       "capital.loss    7.058e-04  2.218e-04   3.182 0.001462 ** \n",
       "hours.per.week  2.954e-02  1.039e-02   2.842 0.004480 ** \n",
       "native.country  2.178e-02  2.734e-02   0.797 0.425571    \n",
       "---\n",
       "Signif. codes:  0 '***' 0.001 '**' 0.01 '*' 0.05 '.' 0.1 ' ' 1\n",
       "\n",
       "(Dispersion parameter for binomial family taken to be 1)\n",
       "\n",
       "    Null deviance: 756.24  on 688  degrees of freedom\n",
       "Residual deviance: 551.15  on 674  degrees of freedom\n",
       "AIC: 581.15\n",
       "\n",
       "Number of Fisher Scoring iterations: 6\n"
      ]
     },
     "metadata": {},
     "output_type": "display_data"
    }
   ],
   "source": [
    "summary(model)"
   ]
  },
  {
   "cell_type": "code",
   "execution_count": 49,
   "metadata": {},
   "outputs": [
    {
     "data": {
      "text/plain": [
       "   results\n",
       "      0   1\n",
       "  0 239  14\n",
       "  1  55  35"
      ]
     },
     "metadata": {},
     "output_type": "display_data"
    }
   ],
   "source": [
    "probabilities <- predict(model,newdata=test,type='response')\n",
    "\n",
    "\n",
    "results <- ifelse(probabilities > 0.5,1,0)\n",
    "\n",
    "\n",
    "\n",
    "confuse.matrix <- table(test$Income,results)\n",
    "confuse.matrix\n",
    "\n"
   ]
  },
  {
   "cell_type": "code",
   "execution_count": 50,
   "metadata": {},
   "outputs": [],
   "source": [
    "tn <- confuse.matrix[1]\n",
    "fn <- confuse.matrix[2]\n",
    "fp <- confuse.matrix[3]\n",
    "tp <- confuse.matrix[4]"
   ]
  },
  {
   "cell_type": "code",
   "execution_count": 51,
   "metadata": {},
   "outputs": [],
   "source": [
    "accuracy <-(tp+tn)/(tp+tn+fp+fn)"
   ]
  },
  {
   "cell_type": "code",
   "execution_count": 52,
   "metadata": {},
   "outputs": [
    {
     "data": {
      "text/html": [
       "0.798833819241982"
      ],
      "text/latex": [
       "0.798833819241982"
      ],
      "text/markdown": [
       "0.798833819241982"
      ],
      "text/plain": [
       "[1] 0.7988338"
      ]
     },
     "metadata": {},
     "output_type": "display_data"
    }
   ],
   "source": [
    "accuracy"
   ]
  },
  {
   "cell_type": "code",
   "execution_count": 53,
   "metadata": {},
   "outputs": [
    {
     "data": {
      "text/html": [
       "0.714285714285714"
      ],
      "text/latex": [
       "0.714285714285714"
      ],
      "text/markdown": [
       "0.714285714285714"
      ],
      "text/plain": [
       "[1] 0.7142857"
      ]
     },
     "metadata": {},
     "output_type": "display_data"
    }
   ],
   "source": [
    "precision <-(tp)/(tp+fp);precision"
   ]
  },
  {
   "cell_type": "code",
   "execution_count": 54,
   "metadata": {},
   "outputs": [
    {
     "data": {
      "text/html": [
       "0.388888888888889"
      ],
      "text/latex": [
       "0.388888888888889"
      ],
      "text/markdown": [
       "0.388888888888889"
      ],
      "text/plain": [
       "[1] 0.3888889"
      ]
     },
     "metadata": {},
     "output_type": "display_data"
    }
   ],
   "source": [
    "recall <- (tp)/(tp+fn);recall"
   ]
  },
  {
   "cell_type": "markdown",
   "metadata": {},
   "source": [
    "# EDA"
   ]
  },
  {
   "cell_type": "code",
   "execution_count": 55,
   "metadata": {},
   "outputs": [
    {
     "data": {
      "image/png": "[encoded data removed]",
      "text/plain": [
       "plot without title"
      ]
     },
     "metadata": {},
     "output_type": "display_data"
    }
   ],
   "source": [
    "g <- ggplot(df, aes(Income))\n",
    "\n",
    "g + geom_bar()"
   ]
  },
  {
   "cell_type": "code",
   "execution_count": 56,
   "metadata": {},
   "outputs": [
    {
     "name": "stdout",
     "output_type": "stream",
     "text": [
      "'data.frame':\t1032 obs. of  15 variables:\n",
      " $ age           : int  39 50 38 53 28 37 49 52 31 42 ...\n",
      " $ Workclass     : num  6 5 3 3 3 3 3 5 3 3 ...\n",
      " $ fnlwgt        : int  77516 83311 215646 234721 338409 284582 160187 209642 45781 159449 ...\n",
      " $ education     : num  10 10 12 2 10 13 7 12 13 10 ...\n",
      " $ education.num : int  13 13 9 7 13 14 5 9 14 13 ...\n",
      " $ marital.status: num  5 3 1 3 3 3 4 3 5 3 ...\n",
      " $ occupation    : num  1 4 6 6 10 4 8 4 10 4 ...\n",
      " $ relationship  : num  2 1 2 1 6 6 2 1 2 1 ...\n",
      " $ race          : num  5 5 5 3 3 5 3 5 5 5 ...\n",
      " $ sex           : num  2 2 2 2 1 1 1 2 1 2 ...\n",
      " $ capital.gain  : int  2174 0 0 0 0 0 0 0 14084 5178 ...\n",
      " $ capital.loss  : int  0 0 0 0 0 0 0 0 0 0 ...\n",
      " $ hours.per.week: int  40 13 40 40 40 40 16 45 50 40 ...\n",
      " $ native.country: num  29 29 29 29 5 29 18 29 29 29 ...\n",
      " $ Income        : int  0 0 0 0 0 0 0 1 1 1 ...\n"
     ]
    }
   ],
   "source": [
    "str(df)"
   ]
  },
  {
   "cell_type": "code",
   "execution_count": 57,
   "metadata": {},
   "outputs": [
    {
     "data": {
      "image/png": "[encoded data removed]",
      "text/plain": [
       "plot without title"
      ]
     },
     "metadata": {},
     "output_type": "display_data"
    }
   ],
   "source": [
    "g1 <- ggplot(df, aes(Income))\n",
    "g1 + geom_bar(aes(fill = factor(marital.status)),position=\"dodge\")"
   ]
  },
  {
   "cell_type": "code",
   "execution_count": 58,
   "metadata": {},
   "outputs": [
    {
     "data": {
      "image/png": "[encoded data removed]",
      "text/plain": [
       "plot without title"
      ]
     },
     "metadata": {},
     "output_type": "display_data"
    }
   ],
   "source": [
    "ggplot(df,aes(x=age)) + geom_histogram(bins=20,alpha=0.5,fill='blue') + theme_minimal()"
   ]
  },
  {
   "cell_type": "code",
   "execution_count": 59,
   "metadata": {},
   "outputs": [
    {
     "data": {
      "image/png": "[encoded data removed]",
      "text/plain": [
       "plot without title"
      ]
     },
     "metadata": {},
     "output_type": "display_data"
    }
   ],
   "source": [
    "ggplot(df,aes(x=fnlwgt)) + geom_histogram(bins=20,alpha=0.5,fill='blue') + theme_minimal()"
   ]
  },
  {
   "cell_type": "code",
   "execution_count": 60,
   "metadata": {},
   "outputs": [
    {
     "data": {
      "image/png": "[encoded data removed]",
      "text/plain": [
       "plot without title"
      ]
     },
     "metadata": {},
     "output_type": "display_data"
    }
   ],
   "source": [
    "ggplot(df,aes(x=Workclass)) + geom_histogram(bins=20,alpha=0.5,fill='blue') + theme_minimal()"
   ]
  },
  {
   "cell_type": "code",
   "execution_count": 61,
   "metadata": {},
   "outputs": [
    {
     "data": {
      "image/png": "[encoded data removed]",
      "text/plain": [
       "plot without title"
      ]
     },
     "metadata": {},
     "output_type": "display_data"
    }
   ],
   "source": [
    "ggplot(df,aes(x=age,y=Income)) + geom_point()"
   ]
  },
  {
   "cell_type": "code",
   "execution_count": 62,
   "metadata": {},
   "outputs": [
    {
     "data": {
      "image/png": "[encoded data removed]",
      "text/plain": [
       "plot without title"
      ]
     },
     "metadata": {},
     "output_type": "display_data"
    }
   ],
   "source": [
    "ggplot(df,aes(x=Workclass,y=Income)) + geom_point()"
   ]
  },
  {
   "cell_type": "code",
   "execution_count": 63,
   "metadata": {},
   "outputs": [
    {
     "data": {
      "image/png": "[encoded data removed]",
      "text/plain": [
       "plot without title"
      ]
     },
     "metadata": {},
     "output_type": "display_data"
    }
   ],
   "source": [
    "ggplot(df,aes(x=fnlwgt,y=Income)) + geom_point()"
   ]
  },
  {
   "cell_type": "markdown",
   "metadata": {},
   "source": [
    "# Decision Tree"
   ]
  },
  {
   "cell_type": "code",
   "execution_count": 64,
   "metadata": {},
   "outputs": [],
   "source": [
    "library(ggplot2)\n",
    "library(caTools)\n",
    "#install.packages(\"rpart\")\n",
    "library(rpart)\n",
    "#install.packages(\"rpart.plot\")\n",
    "\n",
    "library(rpart.plot)"
   ]
  },
  {
   "cell_type": "code",
   "execution_count": 65,
   "metadata": {},
   "outputs": [],
   "source": [
    "set.seed(101)\n",
    "sample <-sample.split(df,SplitRatio=.70)"
   ]
  },
  {
   "cell_type": "code",
   "execution_count": 66,
   "metadata": {},
   "outputs": [],
   "source": [
    "train <-subset(df,sample==TRUE)"
   ]
  },
  {
   "cell_type": "code",
   "execution_count": 67,
   "metadata": {},
   "outputs": [],
   "source": [
    "test <-subset(df,sample==FALSE)"
   ]
  },
  {
   "cell_type": "code",
   "execution_count": 68,
   "metadata": {},
   "outputs": [],
   "source": [
    "tree <- rpart(Income ~ . , method='class', data=train)"
   ]
  },
  {
   "cell_type": "code",
   "execution_count": 69,
   "metadata": {},
   "outputs": [
    {
     "data": {
      "image/png": "[encoded data removed]",
      "text/plain": [
       "plot without title"
      ]
     },
     "metadata": {},
     "output_type": "display_data"
    }
   ],
   "source": [
    "prp(tree)"
   ]
  },
  {
   "cell_type": "code",
   "execution_count": 70,
   "metadata": {},
   "outputs": [
    {
     "data": {
      "text/plain": [
       "   results\n",
       "      0   1\n",
       "  0 207  46\n",
       "  1  34  56"
      ]
     },
     "metadata": {},
     "output_type": "display_data"
    }
   ],
   "source": [
    "results <- predict(tree,newdata=test,type='class')\n",
    "\n",
    "confuse.matrix <- table(test$Income,results)\n",
    "confuse.matrix"
   ]
  },
  {
   "cell_type": "code",
   "execution_count": 71,
   "metadata": {},
   "outputs": [],
   "source": [
    "tn <- confuse.matrix[1]\n",
    "fn <- confuse.matrix[2]\n",
    "fp <- confuse.matrix[3]\n",
    "tp <- confuse.matrix[4]"
   ]
  },
  {
   "cell_type": "code",
   "execution_count": 72,
   "metadata": {},
   "outputs": [
    {
     "data": {
      "text/html": [
       "0.766763848396501"
      ],
      "text/latex": [
       "0.766763848396501"
      ],
      "text/markdown": [
       "0.766763848396501"
      ],
      "text/plain": [
       "[1] 0.7667638"
      ]
     },
     "metadata": {},
     "output_type": "display_data"
    }
   ],
   "source": [
    "accuracy <- (tp+tn)/(tp+tn+fp+fn);accuracy"
   ]
  },
  {
   "cell_type": "code",
   "execution_count": 73,
   "metadata": {},
   "outputs": [
    {
     "data": {
      "text/html": [
       "0.549019607843137"
      ],
      "text/latex": [
       "0.549019607843137"
      ],
      "text/markdown": [
       "0.549019607843137"
      ],
      "text/plain": [
       "[1] 0.5490196"
      ]
     },
     "metadata": {},
     "output_type": "display_data"
    }
   ],
   "source": [
    "precision <-tp /(tp+fp);precision"
   ]
  },
  {
   "cell_type": "code",
   "execution_count": 74,
   "metadata": {},
   "outputs": [
    {
     "data": {
      "text/html": [
       "0.858921161825726"
      ],
      "text/latex": [
       "0.858921161825726"
      ],
      "text/markdown": [
       "0.858921161825726"
      ],
      "text/plain": [
       "[1] 0.8589212"
      ]
     },
     "metadata": {},
     "output_type": "display_data"
    }
   ],
   "source": [
    "recall <- tn /(tn+fn);recall"
   ]
  },
  {
   "cell_type": "markdown",
   "metadata": {},
   "source": [
    "## Pruning"
   ]
  },
  {
   "cell_type": "code",
   "execution_count": 75,
   "metadata": {},
   "outputs": [],
   "source": [
    "tree2 <- rpart(Income ~ . , method='class', data=train,\n",
    "             control=rpart.control(maxdepth = 6))"
   ]
  },
  {
   "cell_type": "code",
   "execution_count": 76,
   "metadata": {},
   "outputs": [
    {
     "data": {
      "image/png": "[encoded data removed]",
      "text/plain": [
       "plot without title"
      ]
     },
     "metadata": {},
     "output_type": "display_data"
    }
   ],
   "source": [
    "prp(tree2)"
   ]
  },
  {
   "cell_type": "code",
   "execution_count": 77,
   "metadata": {},
   "outputs": [
    {
     "data": {
      "text/plain": [
       "   results\n",
       "      0   1\n",
       "  0 226  27\n",
       "  1  37  53"
      ]
     },
     "metadata": {},
     "output_type": "display_data"
    }
   ],
   "source": [
    "results <- predict(tree2,newdata=test,type='class')\n",
    "\n",
    "confuse.matrix <- table(test$Income,results)\n",
    "confuse.matrix"
   ]
  },
  {
   "cell_type": "code",
   "execution_count": 78,
   "metadata": {},
   "outputs": [],
   "source": [
    "tn <- confuse.matrix[1]\n",
    "fn <- confuse.matrix[2]\n",
    "fp <- confuse.matrix[3]\n",
    "tp <- confuse.matrix[4]"
   ]
  },
  {
   "cell_type": "code",
   "execution_count": 79,
   "metadata": {},
   "outputs": [
    {
     "data": {
      "text/html": [
       "0.813411078717201"
      ],
      "text/latex": [
       "0.813411078717201"
      ],
      "text/markdown": [
       "0.813411078717201"
      ],
      "text/plain": [
       "[1] 0.8134111"
      ]
     },
     "metadata": {},
     "output_type": "display_data"
    }
   ],
   "source": [
    "accuracy <- (tp+tn)/(tp+tn+fp+fn);accuracy"
   ]
  },
  {
   "cell_type": "code",
   "execution_count": 80,
   "metadata": {},
   "outputs": [
    {
     "data": {
      "text/html": [
       "0.6625"
      ],
      "text/latex": [
       "0.6625"
      ],
      "text/markdown": [
       "0.6625"
      ],
      "text/plain": [
       "[1] 0.6625"
      ]
     },
     "metadata": {},
     "output_type": "display_data"
    }
   ],
   "source": [
    "precision <-tp /(tp+fp);precision"
   ]
  },
  {
   "cell_type": "code",
   "execution_count": 81,
   "metadata": {},
   "outputs": [
    {
     "data": {
      "text/html": [
       "0.859315589353612"
      ],
      "text/latex": [
       "0.859315589353612"
      ],
      "text/markdown": [
       "0.859315589353612"
      ],
      "text/plain": [
       "[1] 0.8593156"
      ]
     },
     "metadata": {},
     "output_type": "display_data"
    }
   ],
   "source": [
    "recall <- tn /(tn+fn);recall"
   ]
  },
  {
   "cell_type": "markdown",
   "metadata": {},
   "source": [
    "# Random Forest"
   ]
  },
  {
   "cell_type": "code",
   "execution_count": 82,
   "metadata": {},
   "outputs": [
    {
     "name": "stderr",
     "output_type": "stream",
     "text": [
      "randomForest 4.6-14\n",
      "Type rfNews() to see new features/changes/bug fixes.\n",
      "\n",
      "Attaching package: 'randomForest'\n",
      "\n",
      "The following object is masked from 'package:ggplot2':\n",
      "\n",
      "    margin\n",
      "\n",
      "The following object is masked from 'package:dplyr':\n",
      "\n",
      "    combine\n",
      "\n"
     ]
    }
   ],
   "source": [
    "library(ggplot2)\n",
    "library(caTools)\n",
    "#install.packages(\"randomForest\")\n",
    "library(randomForest)"
   ]
  },
  {
   "cell_type": "code",
   "execution_count": 83,
   "metadata": {},
   "outputs": [
    {
     "name": "stderr",
     "output_type": "stream",
     "text": [
      "Warning message in randomForest.default(m, y, ...):\n",
      "\"The response has five or fewer unique values.  Are you sure you want to do regression?\""
     ]
    }
   ],
   "source": [
    "set.seed(101)\n",
    "sample <-sample.split(df,SplitRatio=.70)\n",
    "train <-subset(df,sample==TRUE)\n",
    "test <-subset(df,sample==FALSE)\n",
    "model <- randomForest(Income ~ .,data=train)"
   ]
  },
  {
   "cell_type": "code",
   "execution_count": 84,
   "metadata": {},
   "outputs": [
    {
     "name": "stdout",
     "output_type": "stream",
     "text": [
      "\n",
      "Call:\n",
      " randomForest(formula = Income ~ ., data = train) \n",
      "               Type of random forest: regression\n",
      "                     Number of trees: 500\n",
      "No. of variables tried at each split: 4\n",
      "\n",
      "          Mean of squared residuals: 0.1176825\n",
      "                    % Var explained: 35.11\n"
     ]
    }
   ],
   "source": [
    "print(model)"
   ]
  },
  {
   "cell_type": "code",
   "execution_count": 85,
   "metadata": {},
   "outputs": [],
   "source": [
    "results <- predict(model,newdata=test,type='class')"
   ]
  },
  {
   "cell_type": "code",
   "execution_count": 86,
   "metadata": {},
   "outputs": [],
   "source": [
    "confuse.matrix <- table(test$Income,results)"
   ]
  },
  {
   "cell_type": "code",
   "execution_count": 105,
   "metadata": {},
   "outputs": [
    {
     "name": "stdout",
     "output_type": "stream",
     "text": [
      "   results\n",
      "      0   1\n",
      "  0 245   8\n",
      "  1  54  36\n"
     ]
    }
   ],
   "source": [
    "print(confuse.matrix)"
   ]
  },
  {
   "cell_type": "code",
   "execution_count": 106,
   "metadata": {},
   "outputs": [],
   "source": [
    "tn <- confuse.matrix[1]\n",
    "fn <- confuse.matrix[2]\n",
    "fp <- confuse.matrix[3]\n",
    "tp <- confuse.matrix[4]"
   ]
  },
  {
   "cell_type": "code",
   "execution_count": 107,
   "metadata": {},
   "outputs": [
    {
     "data": {
      "text/html": [
       "0.819241982507289"
      ],
      "text/latex": [
       "0.819241982507289"
      ],
      "text/markdown": [
       "0.819241982507289"
      ],
      "text/plain": [
       "[1] 0.819242"
      ]
     },
     "metadata": {},
     "output_type": "display_data"
    },
    {
     "data": {
      "text/html": [
       "0.818181818181818"
      ],
      "text/latex": [
       "0.818181818181818"
      ],
      "text/markdown": [
       "0.818181818181818"
      ],
      "text/plain": [
       "[1] 0.8181818"
      ]
     },
     "metadata": {},
     "output_type": "display_data"
    },
    {
     "data": {
      "text/html": [
       "0.819397993311037"
      ],
      "text/latex": [
       "0.819397993311037"
      ],
      "text/markdown": [
       "0.819397993311037"
      ],
      "text/plain": [
       "[1] 0.819398"
      ]
     },
     "metadata": {},
     "output_type": "display_data"
    }
   ],
   "source": [
    "accuracy <- (tp+tn)/(tp+tn+fp+fn);accuracy\n",
    "precision <-tp /(tp+fp);precision\n",
    "recall <- tn /(tn+fn);recall"
   ]
  },
  {
   "cell_type": "markdown",
   "metadata": {},
   "source": [
    "# SVM"
   ]
  },
  {
   "cell_type": "code",
   "execution_count": 90,
   "metadata": {},
   "outputs": [],
   "source": [
    "prediction <- function(model){\n",
    "    \n",
    "    results <- predict(model,newdata=test,type='class')\n",
    "    confuse.matrix <- table(test$Income,results)\n",
    "    print(confuse.matrix)\n",
    "    \n",
    "}"
   ]
  },
  {
   "cell_type": "code",
   "execution_count": 91,
   "metadata": {},
   "outputs": [],
   "source": [
    "model <- svm(Income ~ .,\n",
    "              data=train,\n",
    "              type=\"C-classification\",\n",
    "              kernel = \"linear\")"
   ]
  },
  {
   "cell_type": "code",
   "execution_count": 92,
   "metadata": {},
   "outputs": [
    {
     "name": "stdout",
     "output_type": "stream",
     "text": [
      "   results\n",
      "      0   1\n",
      "  0 247   6\n",
      "  1  65  25\n"
     ]
    }
   ],
   "source": [
    "confuse.matrix <-prediction(model)"
   ]
  },
  {
   "cell_type": "code",
   "execution_count": 93,
   "metadata": {},
   "outputs": [],
   "source": [
    "tn <- confuse.matrix[1]\n",
    "fn <- confuse.matrix[2]\n",
    "fp <- confuse.matrix[3]\n",
    "tp <- confuse.matrix[4]"
   ]
  },
  {
   "cell_type": "code",
   "execution_count": 94,
   "metadata": {},
   "outputs": [
    {
     "data": {
      "text/html": [
       "0.793002915451895"
      ],
      "text/latex": [
       "0.793002915451895"
      ],
      "text/markdown": [
       "0.793002915451895"
      ],
      "text/plain": [
       "[1] 0.7930029"
      ]
     },
     "metadata": {},
     "output_type": "display_data"
    },
    {
     "data": {
      "text/html": [
       "0.806451612903226"
      ],
      "text/latex": [
       "0.806451612903226"
      ],
      "text/markdown": [
       "0.806451612903226"
      ],
      "text/plain": [
       "[1] 0.8064516"
      ]
     },
     "metadata": {},
     "output_type": "display_data"
    },
    {
     "data": {
      "text/html": [
       "0.791666666666667"
      ],
      "text/latex": [
       "0.791666666666667"
      ],
      "text/markdown": [
       "0.791666666666667"
      ],
      "text/plain": [
       "[1] 0.7916667"
      ]
     },
     "metadata": {},
     "output_type": "display_data"
    }
   ],
   "source": [
    "accuracy <- (tp+tn)/(tp+tn+fp+fn);accuracy\n",
    "precision <-tp /(tp+fp);precision\n",
    "recall <- tn /(tn+fn);recall"
   ]
  },
  {
   "cell_type": "code",
   "execution_count": 95,
   "metadata": {},
   "outputs": [],
   "source": [
    "# Linear with cost  (soft margin)\n",
    "model <- svm(Income ~ .,\n",
    "              data=train,\n",
    "              type=\"C-classification\",\n",
    "              kernel = \"linear\",cost=10 )"
   ]
  },
  {
   "cell_type": "code",
   "execution_count": 96,
   "metadata": {},
   "outputs": [
    {
     "name": "stdout",
     "output_type": "stream",
     "text": [
      "   results\n",
      "      0   1\n",
      "  0 247   6\n",
      "  1  65  25\n"
     ]
    }
   ],
   "source": [
    "confuse.matrix <-prediction(model)"
   ]
  },
  {
   "cell_type": "code",
   "execution_count": 97,
   "metadata": {},
   "outputs": [],
   "source": [
    "tn <- confuse.matrix[1]\n",
    "fn <- confuse.matrix[2]\n",
    "fp <- confuse.matrix[3]\n",
    "tp <- confuse.matrix[4]"
   ]
  },
  {
   "cell_type": "code",
   "execution_count": 98,
   "metadata": {},
   "outputs": [
    {
     "data": {
      "text/html": [
       "0.793002915451895"
      ],
      "text/latex": [
       "0.793002915451895"
      ],
      "text/markdown": [
       "0.793002915451895"
      ],
      "text/plain": [
       "[1] 0.7930029"
      ]
     },
     "metadata": {},
     "output_type": "display_data"
    },
    {
     "data": {
      "text/html": [
       "0.806451612903226"
      ],
      "text/latex": [
       "0.806451612903226"
      ],
      "text/markdown": [
       "0.806451612903226"
      ],
      "text/plain": [
       "[1] 0.8064516"
      ]
     },
     "metadata": {},
     "output_type": "display_data"
    },
    {
     "data": {
      "text/html": [
       "0.791666666666667"
      ],
      "text/latex": [
       "0.791666666666667"
      ],
      "text/markdown": [
       "0.791666666666667"
      ],
      "text/plain": [
       "[1] 0.7916667"
      ]
     },
     "metadata": {},
     "output_type": "display_data"
    }
   ],
   "source": [
    "accuracy <- (tp+tn)/(tp+tn+fp+fn);accuracy\n",
    "precision <-tp /(tp+fp);precision\n",
    "recall <- tn /(tn+fn);recall"
   ]
  },
  {
   "cell_type": "code",
   "execution_count": 99,
   "metadata": {},
   "outputs": [
    {
     "name": "stdout",
     "output_type": "stream",
     "text": [
      "   results\n",
      "      0   1\n",
      "  0 245   8\n",
      "  1  60  30\n"
     ]
    }
   ],
   "source": [
    "#Kernal function with Polynomial\n",
    "model <- svm(Income ~ .,\n",
    "              data=train,\n",
    "              type=\"C-classification\",\n",
    "              kernel = \"polynomial\")\n",
    "confuse.matrix <-prediction(model)"
   ]
  },
  {
   "cell_type": "code",
   "execution_count": 100,
   "metadata": {},
   "outputs": [],
   "source": [
    "tn <- confuse.matrix[1]\n",
    "fn <- confuse.matrix[2]\n",
    "fp <- confuse.matrix[3]\n",
    "tp <- confuse.matrix[4]"
   ]
  },
  {
   "cell_type": "code",
   "execution_count": 101,
   "metadata": {},
   "outputs": [
    {
     "data": {
      "text/html": [
       "0.801749271137026"
      ],
      "text/latex": [
       "0.801749271137026"
      ],
      "text/markdown": [
       "0.801749271137026"
      ],
      "text/plain": [
       "[1] 0.8017493"
      ]
     },
     "metadata": {},
     "output_type": "display_data"
    },
    {
     "data": {
      "text/html": [
       "0.789473684210526"
      ],
      "text/latex": [
       "0.789473684210526"
      ],
      "text/markdown": [
       "0.789473684210526"
      ],
      "text/plain": [
       "[1] 0.7894737"
      ]
     },
     "metadata": {},
     "output_type": "display_data"
    },
    {
     "data": {
      "text/html": [
       "0.80327868852459"
      ],
      "text/latex": [
       "0.80327868852459"
      ],
      "text/markdown": [
       "0.80327868852459"
      ],
      "text/plain": [
       "[1] 0.8032787"
      ]
     },
     "metadata": {},
     "output_type": "display_data"
    }
   ],
   "source": [
    "accuracy <- (tp+tn)/(tp+tn+fp+fn);accuracy\n",
    "precision <-tp /(tp+fp);precision\n",
    "recall <- tn /(tn+fn);recall"
   ]
  },
  {
   "cell_type": "code",
   "execution_count": 102,
   "metadata": {},
   "outputs": [
    {
     "name": "stdout",
     "output_type": "stream",
     "text": [
      "   results\n",
      "      0   1\n",
      "  0 245   8\n",
      "  1  54  36\n"
     ]
    }
   ],
   "source": [
    "#Kernal function with radial\n",
    "model<- svm(Income ~ .,\n",
    "              data=train,\n",
    "              type=\"C-classification\",\n",
    "              kernel = \"radial\")\n",
    "confuse.matrix <-prediction(model)"
   ]
  },
  {
   "cell_type": "code",
   "execution_count": 103,
   "metadata": {},
   "outputs": [],
   "source": [
    "tn <- confuse.matrix[1]\n",
    "fn <- confuse.matrix[2]\n",
    "fp <- confuse.matrix[3]\n",
    "tp <- confuse.matrix[4]"
   ]
  },
  {
   "cell_type": "code",
   "execution_count": 104,
   "metadata": {},
   "outputs": [
    {
     "data": {
      "text/html": [
       "0.819241982507289"
      ],
      "text/latex": [
       "0.819241982507289"
      ],
      "text/markdown": [
       "0.819241982507289"
      ],
      "text/plain": [
       "[1] 0.819242"
      ]
     },
     "metadata": {},
     "output_type": "display_data"
    },
    {
     "data": {
      "text/html": [
       "0.818181818181818"
      ],
      "text/latex": [
       "0.818181818181818"
      ],
      "text/markdown": [
       "0.818181818181818"
      ],
      "text/plain": [
       "[1] 0.8181818"
      ]
     },
     "metadata": {},
     "output_type": "display_data"
    },
    {
     "data": {
      "text/html": [
       "0.819397993311037"
      ],
      "text/latex": [
       "0.819397993311037"
      ],
      "text/markdown": [
       "0.819397993311037"
      ],
      "text/plain": [
       "[1] 0.819398"
      ]
     },
     "metadata": {},
     "output_type": "display_data"
    }
   ],
   "source": [
    "accuracy <- (tp+tn)/(tp+tn+fp+fn);accuracy\n",
    "precision <-tp /(tp+fp);precision\n",
    "recall <- tn /(tn+fn);recall"
   ]
  },
  {
   "cell_type": "code",
   "execution_count": null,
   "metadata": {},
   "outputs": [],
   "source": []
  }
 ],
 "metadata": {
  "kernelspec": {
   "display_name": "R",
   "language": "R",
   "name": "ir"
  },
  "language_info": {
   "codemirror_mode": "r",
   "file_extension": ".r",
   "mimetype": "text/x-r-source",
   "name": "R",
   "pygments_lexer": "r",
   "version": "3.6.1"
  }
 },
 "nbformat": 4,
 "nbformat_minor": 2
}
